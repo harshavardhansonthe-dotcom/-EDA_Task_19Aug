"Handle Missing Data" 
# Load CSV
df = pd.read_csv("C:/Users/harsh/OneDrive/Desktop/softserveinternship/data/sales_data_sample.csv", encoding="latin1")

#Drop missing rows (if only a few rows are affected)
df.dropna(inplace=True)

#ROWS* columns
print("Shape:", df.shape)

#Impute missing values

#Forward fill:

#df.fillna(method='ffill', inplace=True)(pandas is going to remove it in future)
df.ffill(inplace=True)# new updated function

#Backward fill:

#df.fillna(method='bfill', inplace=True)
df.bfill(inplace=True)

#Ensure no missing values remain:
df.isna().sum()

#Save the cleaned version of the dataset:
df.to_csv("C:/Users/harsh/OneDrive/Desktop/softserveinternship/data/sales_data_cleaned.csv", index=False)