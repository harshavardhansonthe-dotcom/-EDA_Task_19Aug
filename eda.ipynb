# Load CSV
df = pd.read_csv("C:/Users/harsh/OneDrive/Desktop/softserveinternship/data/sales_data_sample.csv", encoding="latin1")
#ROWS* columns
print("Shape:", df.shape)
#Column Names
print("Columns:", df.columns.tolist())
#Sample Rows
df.head() # first 5 rows
df.tail() # last 5 rows
df.sample(5) # random 5 rows
#Extra Checks
df.info() # column data types + non-null counts
df.describe() # summary statistics
df.isna().sum() # missing values count
