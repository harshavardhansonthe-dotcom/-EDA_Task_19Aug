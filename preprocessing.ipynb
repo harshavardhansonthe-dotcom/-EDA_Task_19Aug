 preprocessing.ipynb 

#Import Libraries
import pandas as pd
from sklearn.preprocessing import MinMaxScaler

# Load CSV
df = pd.read_csv("C:/Users/harsh/OneDrive/Desktop/softserveinternship/data/cleaned_data_v2.csv", encoding="latin1")

#to identify numeric columns
numerical_cols = df.select_dtypes(include=['int64',
'float64']).columns
print("Numerical Columns:", numerical_cols)

scaler = MinMaxScaler()
df[numerical_cols] = scaler.fit_transform(df[numerical_cols])

print(df[numerical_cols].head())


df.to_csv("C:/Users/harsh/OneDrive/Desktop/softserveinternship/data/preprocessed_data.csv", index=False)